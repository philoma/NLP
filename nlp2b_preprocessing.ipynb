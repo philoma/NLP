{
  "nbformat": 4,
  "nbformat_minor": 0,
  "metadata": {
    "colab": {
      "provenance": []
    },
    "kernelspec": {
      "name": "python3",
      "display_name": "Python 3"
    },
    "language_info": {
      "name": "python"
    }
  },
  "cells": [
    {
      "cell_type": "code",
      "execution_count": null,
      "metadata": {
        "id": "O-uoy8dDvaLM"
      },
      "outputs": [],
      "source": [
        "dummy='A paragraph is a distinct and separate piece of writing that forms part of an overall text. Each paragraph contains one key idea or topic and at least one controlling idea. When writing a larger text, such as an essay, the writer must also consider how the ideas in each paragraph connect to each other. Types of Academic Writing are discussed in Chapter 15 of this resource, therefore this chapter examines only the BODY paragraph.'"
      ]
    },
    {
      "cell_type": "code",
      "source": [
        "import nltk\n",
        "# nltk.download('punkt')\n",
        "from nltk.tokenize import sent_tokenize, word_tokenize\n",
        "# sent_tokenize- break wherever fullstop"
      ],
      "metadata": {
        "colab": {
          "base_uri": "https://localhost:8080/"
        },
        "id": "f01UI7TJwBL4",
        "outputId": "e2cb4ae6-11f0-48b5-d847-98edbd5544a3"
      },
      "execution_count": null,
      "outputs": [
        {
          "output_type": "stream",
          "name": "stderr",
          "text": [
            "[nltk_data] Downloading package punkt to /root/nltk_data...\n",
            "[nltk_data]   Unzipping tokenizers/punkt.zip.\n"
          ]
        }
      ]
    },
    {
      "cell_type": "code",
      "source": [
        "sents=sent_tokenize(dummy)\n",
        "sents"
      ],
      "metadata": {
        "colab": {
          "base_uri": "https://localhost:8080/"
        },
        "id": "_oklyvnywNKu",
        "outputId": "517819ec-3803-44f1-d56b-0286df363e46"
      },
      "execution_count": null,
      "outputs": [
        {
          "output_type": "execute_result",
          "data": {
            "text/plain": [
              "['A paragraph is a distinct and separate piece of writing that forms part of an overall text.',\n",
              " 'Each paragraph contains one key idea or topic and at least one controlling idea.',\n",
              " 'When writing a larger text, such as an essay, the writer must also consider how the ideas in each paragraph connect to each other.',\n",
              " 'Types of Academic Writing are discussed in Chapter 15 of this resource, therefore this chapter examines only the BODY paragraph.']"
            ]
          },
          "metadata": {},
          "execution_count": 9
        }
      ]
    },
    {
      "cell_type": "code",
      "source": [
        "for sent in sents:\n",
        "  print(word_tokenize(sent))"
      ],
      "metadata": {
        "colab": {
          "base_uri": "https://localhost:8080/"
        },
        "id": "6ugLvB7wwUaB",
        "outputId": "d8cee83e-162b-4cde-d74f-1ae404f4441f"
      },
      "execution_count": null,
      "outputs": [
        {
          "output_type": "stream",
          "name": "stdout",
          "text": [
            "['A', 'paragraph', 'is', 'a', 'distinct', 'and', 'separate', 'piece', 'of', 'writing', 'that', 'forms', 'part', 'of', 'an', 'overall', 'text', '.']\n",
            "['Each', 'paragraph', 'contains', 'one', 'key', 'idea', 'or', 'topic', 'and', 'at', 'least', 'one', 'controlling', 'idea', '.']\n",
            "['When', 'writing', 'a', 'larger', 'text', ',', 'such', 'as', 'an', 'essay', ',', 'the', 'writer', 'must', 'also', 'consider', 'how', 'the', 'ideas', 'in', 'each', 'paragraph', 'connect', 'to', 'each', 'other', '.']\n",
            "['Types', 'of', 'Academic', 'Writing', 'are', 'discussed', 'in', 'Chapter', '15', 'of', 'this', 'resource', ',', 'therefore', 'this', 'chapter', 'examines', 'only', 'the', 'BODY', 'paragraph', '.']\n"
          ]
        }
      ]
    },
    {
      "cell_type": "code",
      "source": [],
      "metadata": {
        "id": "_-mQyZULwyYS"
      },
      "execution_count": null,
      "outputs": []
    },
    {
      "cell_type": "code",
      "source": [],
      "metadata": {
        "id": "xozcWrMrxUrT"
      },
      "execution_count": null,
      "outputs": []
    }
  ]
}